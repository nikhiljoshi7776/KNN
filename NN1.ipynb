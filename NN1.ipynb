{
 "cells": [
  {
   "cell_type": "markdown",
   "id": "8cae75df",
   "metadata": {},
   "source": [
    "# Assignment 1: implementation of the K Nearest Neighbours algorithm \n",
    "for K = 1 and K = 3 with the test error rates for:\n",
    "    – The iris dataset and K = 1;\n",
    "    – The iris dataset and K = 3;\n",
    "    – ionosphere.txt and K = 1;\n",
    "    – ionosphere.txt and K = 3."
   ]
  },
  {
   "cell_type": "markdown",
   "id": "9dffb0ad",
   "metadata": {},
   "source": [
    "Load IRIS dataset"
   ]
  },
  {
   "cell_type": "code",
   "execution_count": 2,
   "id": "bb31e513",
   "metadata": {},
   "outputs": [
    {
     "name": "stdout",
     "output_type": "stream",
     "text": [
      "(112, 4)\n",
      "(38, 4)\n"
     ]
    }
   ],
   "source": [
    "import numpy as np\n",
    "from sklearn.datasets import load_iris\n",
    "from statistics import mode\n",
    "iris= load_iris()\n",
    "from sklearn.model_selection import train_test_split\n",
    "X_train,X_test,y_train,y_test= train_test_split(iris[\"data\"],iris[\"target\"],random_state=1602)\n",
    "print(X_train.shape)\n",
    "print(X_test.shape)"
   ]
  },
  {
   "cell_type": "markdown",
   "id": "499df360",
   "metadata": {},
   "source": [
    "Load ionosphere dataset"
   ]
  },
  {
   "cell_type": "code",
   "execution_count": 3,
   "id": "2806608f",
   "metadata": {},
   "outputs": [
    {
     "name": "stdout",
     "output_type": "stream",
     "text": [
      "(351, 35)\n"
     ]
    }
   ],
   "source": [
    "x=np.genfromtxt(\"ionosphere.txt\",delimiter=\",\")\n",
    "print(x.shape)\n",
    "X = np.genfromtxt(\"ionosphere.txt\", delimiter=\",\",usecols=np.arange(34))\n",
    "y = np.genfromtxt(\"ionosphere.txt\", delimiter=\",\",usecols=34, dtype='int')\n",
    "X2_train,X2_test,y2_train,y2_test= train_test_split(X,y,random_state=1602)"
   ]
  },
  {
   "cell_type": "code",
   "execution_count": 50,
   "id": "a9a1f67c",
   "metadata": {},
   "outputs": [],
   "source": [
    "def euclidist(X1, X2):\n",
    "    euclidist = np.sqrt(np.sum((X2-X1))**2)\n",
    "    return euclidist"
   ]
  },
  {
   "cell_type": "code",
   "execution_count": 51,
   "id": "f1773cd4",
   "metadata": {},
   "outputs": [],
   "source": [
    "def predict2(test_sample,k, y_train, X_train):\n",
    "    d = []\n",
    "    votes = []\n",
    "    for j in range(len(X_train)):\n",
    "        dist = euclidist(test_sample, X_train[j])\n",
    "        d.append([dist, j])\n",
    "    d.sort()\n",
    "    d = d[0:k]\n",
    "    for a, l in d:\n",
    "        votes.append(y_train[l])\n",
    "    return mode(votes)"
   ]
  },
  {
   "cell_type": "markdown",
   "id": "1a6fb044",
   "metadata": {},
   "source": [
    "IRIS DATASET"
   ]
  },
  {
   "cell_type": "markdown",
   "id": "08b9cfdf",
   "metadata": {},
   "source": [
    "Implementation of k=1 NN algorithm"
   ]
  },
  {
   "cell_type": "code",
   "execution_count": 52,
   "id": "bd862db1",
   "metadata": {},
   "outputs": [],
   "source": [
    "predictions = []\n",
    "k = 1\n",
    "for i in range(len(X_test)):\n",
    "    test_sample = X_test[i]\n",
    "    prediction = predict2(test_sample,k, y_train, X_train)\n",
    "    predictions.append(prediction)"
   ]
  },
  {
   "cell_type": "code",
   "execution_count": 53,
   "id": "a9e40853",
   "metadata": {},
   "outputs": [
    {
     "name": "stdout",
     "output_type": "stream",
     "text": [
      "count of errors= 5\n",
      "percentage of wrong prediction= 13.157894736842104\n"
     ]
    }
   ],
   "source": [
    "count = np.sum(np.array(y_test != predictions))\n",
    "print('count of errors=',count)\n",
    "print('percentage of wrong prediction=',count/len(predictions)*100)"
   ]
  },
  {
   "cell_type": "markdown",
   "id": "a49e89b4",
   "metadata": {},
   "source": [
    "Implementation of k=3 NN algorithm"
   ]
  },
  {
   "cell_type": "code",
   "execution_count": 54,
   "id": "6bdf9d95",
   "metadata": {},
   "outputs": [],
   "source": [
    "predictions = []\n",
    "k = 3\n",
    "for i in range(len(X_test)):\n",
    "    test_sample = X_test[i]\n",
    "    prediction = predict2(test_sample,k, y_train, X_train)\n",
    "    predictions.append(prediction)"
   ]
  },
  {
   "cell_type": "code",
   "execution_count": 55,
   "id": "beedd8dc",
   "metadata": {},
   "outputs": [
    {
     "name": "stdout",
     "output_type": "stream",
     "text": [
      "count of errors= 6\n",
      "percentage of wrong prediction= 15.789473684210526\n"
     ]
    }
   ],
   "source": [
    "count = np.sum(np.array(y_test != predictions))\n",
    "print('count of errors=',count)\n",
    "print('percentage of wrong prediction=',count/len(predictions)*100)"
   ]
  },
  {
   "cell_type": "markdown",
   "id": "30e49501",
   "metadata": {},
   "source": [
    "IONOSPHERE DATASET"
   ]
  },
  {
   "cell_type": "markdown",
   "id": "f554710a",
   "metadata": {},
   "source": [
    "Implementation of K=1 NN algorithm"
   ]
  },
  {
   "cell_type": "code",
   "execution_count": 56,
   "id": "5ebf0616",
   "metadata": {},
   "outputs": [],
   "source": [
    "predictions = []\n",
    "k = 1\n",
    "for i in range(len(X2_test)):\n",
    "    test_sample = X2_test[i]\n",
    "    prediction = predict2(test_sample,k, y2_train, X2_train)\n",
    "    predictions.append(prediction)"
   ]
  },
  {
   "cell_type": "code",
   "execution_count": 57,
   "id": "fc1d2003",
   "metadata": {},
   "outputs": [
    {
     "name": "stdout",
     "output_type": "stream",
     "text": [
      "count of errors= 29\n",
      "percentage of wrong prediction= 6.8181818181818175\n"
     ]
    }
   ],
   "source": [
    "e = 0\n",
    "for i in range(len(predictions)):\n",
    "    if predictions[i] != y2_test[i]:\n",
    "        e = e+1\n",
    "print('count of errors=',e)\n",
    "print('percentage of wrong prediction=',count/len(predictions)*100)"
   ]
  },
  {
   "cell_type": "markdown",
   "id": "116ef879",
   "metadata": {},
   "source": [
    "Implementation of k=3 NN algorithm"
   ]
  },
  {
   "cell_type": "code",
   "execution_count": 58,
   "id": "0029381a",
   "metadata": {},
   "outputs": [],
   "source": [
    "predictions = []\n",
    "k = 3\n",
    "for i in range(len(X2_test)):\n",
    "    test_sample = X2_test[i]\n",
    "    prediction = predict2(test_sample,k, y2_train, X2_train)\n",
    "    predictions.append(prediction)"
   ]
  },
  {
   "cell_type": "code",
   "execution_count": 59,
   "id": "b686f6cb",
   "metadata": {},
   "outputs": [
    {
     "name": "stdout",
     "output_type": "stream",
     "text": [
      "count of errors= 32\n",
      "percentage of wrong prediction= 6.8181818181818175\n"
     ]
    }
   ],
   "source": [
    "e = 0\n",
    "for i in range(len(predictions)):\n",
    "    if predictions[i] != y2_test[i]:\n",
    "        e = e+1\n",
    "print('count of errors=',e)\n",
    "print('percentage of wrong prediction=',count/len(predictions)*100)"
   ]
  },
  {
   "cell_type": "code",
   "execution_count": null,
   "id": "b6493d08",
   "metadata": {},
   "outputs": [],
   "source": []
  }
 ],
 "metadata": {
  "kernelspec": {
   "display_name": "Python 3",
   "language": "python",
   "name": "python3"
  },
  "language_info": {
   "codemirror_mode": {
    "name": "ipython",
    "version": 3
   },
   "file_extension": ".py",
   "mimetype": "text/x-python",
   "name": "python",
   "nbconvert_exporter": "python",
   "pygments_lexer": "ipython3",
   "version": "3.8.8"
  }
 },
 "nbformat": 4,
 "nbformat_minor": 5
}
